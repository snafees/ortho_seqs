{
 "cells": [
  {
   "cell_type": "code",
   "execution_count": 41,
   "id": "98508462",
   "metadata": {
    "pycharm": {
     "name": "#%%\n"
    }
   },
   "outputs": [],
   "source": [
    "import pandas as pd\n",
    "import numpy as np\n",
    "import matplotlib.pyplot as plt\n",
    "import seaborn as sns\n",
    "from scipy.stats import mannwhitneyu"
   ]
  },
  {
   "cell_type": "code",
   "execution_count": 3,
   "id": "2a1ab258",
   "metadata": {
    "pycharm": {
     "name": "#%%\n"
    }
   },
   "outputs": [
    {
     "data": {
      "text/plain": [
       "['Sidhu_fig4_insulin_cdrh3_VEGF_ELISA_rFon1',\n",
       " 'Sidhu_fig4_insulin_cdrh3_VEGF_ELISA_rFon1D',\n",
       " 'Sidhu_fig4_insulin_cdrh3_VEGF_ELISA_rFon2i1',\n",
       " 'Sidhu_fig4_insulin_cdrh3_VEGF_ELISA_Fon1',\n",
       " 'Sidhu_fig4_insulin_cdrh3_VEGF_ELISA_Fon2i1',\n",
       " 'Sidhu_fig4_insulin_cdrh3_VEGF_ELISA_Fest']"
      ]
     },
     "execution_count": 3,
     "metadata": {},
     "output_type": "execute_result"
    }
   ],
   "source": [
    "regs = np.load('Sidhu_fig4_insulin_cdrh3_VEGF_ELISA_regressions.npz')\n",
    "files = regs.files\n",
    "files"
   ]
  },
  {
   "cell_type": "code",
   "execution_count": 5,
   "id": "67da77f1",
   "metadata": {
    "pycharm": {
     "name": "#%%\n"
    }
   },
   "outputs": [
    {
     "name": "stdout",
     "output_type": "stream",
     "text": [
      "[[-8.66956522e-01  2.67122021e+00  1.25000853e+00 -1.62309017e+00\n",
      "   0.00000000e+00  0.00000000e+00]\n",
      " [ 2.70648177e-01  1.45753846e+00 -5.77193676e-01  6.87155963e-02\n",
      "   0.00000000e+00  0.00000000e+00]\n",
      " [ 8.24127741e-01  2.16754253e+00 -7.43027466e-01 -8.33399209e-01\n",
      "   0.00000000e+00  0.00000000e+00]\n",
      " [-4.07692308e-01  2.39477273e+00 -1.62198543e-01 -5.59279569e-01\n",
      "   0.00000000e+00  0.00000000e+00]\n",
      " [ 1.15055767e+00  2.95415634e+00  6.22621061e-01 -1.77020581e+00\n",
      "   0.00000000e+00  0.00000000e+00]\n",
      " [ 1.68252427e-01  3.06691860e+00 -3.83169122e-01 -1.57245874e+00\n",
      "   0.00000000e+00  0.00000000e+00]\n",
      " [ 1.77528736e-01  1.78575581e+00 -1.35583688e-01 -6.96824553e-01\n",
      "   0.00000000e+00  0.00000000e+00]\n",
      " [ 3.24985701e-01  7.55384615e-01  7.60569762e-01 -8.01227634e-01\n",
      "   7.46086957e-01  0.00000000e+00]\n",
      " [ 1.25183535e+00  3.94823529e+00 -5.55441176e-01 -1.60143701e+00\n",
      "   2.31855072e+00  7.46086957e-01]\n",
      " [ 1.82053682e+00  1.49974138e+00  3.30019900e+00 -2.49567756e+00\n",
      "   3.52579710e+00  1.55485294e+00]\n",
      " [ 1.84325758e+00  2.63573529e+00 -4.78386167e-03 -2.17180431e+00\n",
      "   2.30632353e+00  2.26238806e+00]\n",
      " [-1.43958656e+00  1.89887010e+00  1.16977273e+00 -2.77639752e-02\n",
      "   0.00000000e+00  2.36430769e+00]\n",
      " [-5.95890805e-01  2.64199005e+00 -5.10108730e-01 -4.38991744e-01\n",
      "   4.96637681e+00  2.36430769e+00]\n",
      " [ 1.28113636e+00 -5.32173913e-01 -8.64264706e-01 -1.35842593e+00\n",
      "   8.38333333e-01  2.36430769e+00]\n",
      " [-1.57701505e+00  3.68497121e+00  0.00000000e+00  2.65561644e-01\n",
      "   5.02903226e-01  2.08778226e+00]\n",
      " [ 5.61567944e-01  0.00000000e+00 -1.33571429e+00  1.93833333e+00\n",
      "  -1.73170000e+00  1.79209177e+00]\n",
      " [-6.15394737e-01  2.18284091e+00  3.37758621e+00 -3.98736842e+00\n",
      "   6.15394737e-01  0.00000000e+00]\n",
      " [ 0.00000000e+00  0.00000000e+00  0.00000000e+00  0.00000000e+00\n",
      "   0.00000000e+00  0.00000000e+00]\n",
      " [ 0.00000000e+00  0.00000000e+00  0.00000000e+00  0.00000000e+00\n",
      "   0.00000000e+00  0.00000000e+00]]\n"
     ]
    }
   ],
   "source": [
    "rFon1D = regs['Sidhu_fig4_insulin_cdrh3_VEGF_ELISA_rFon1D']\n",
    "print(rFon1D)"
   ]
  },
  {
   "cell_type": "code",
   "execution_count": 6,
   "id": "03bd5e65",
   "metadata": {
    "pycharm": {
     "name": "#%%\n"
    }
   },
   "outputs": [],
   "source": [
    "col_names = ['G','R','S','Y','z','n'] #where z= ACDEFHIKLMNPQTVW (all other residues)"
   ]
  },
  {
   "cell_type": "code",
   "execution_count": 7,
   "id": "3d1c6cc8",
   "metadata": {
    "pycharm": {
     "name": "#%%\n"
    }
   },
   "outputs": [
    {
     "data": {
      "text/html": [
       "<div>\n",
       "<style scoped>\n",
       "    .dataframe tbody tr th:only-of-type {\n",
       "        vertical-align: middle;\n",
       "    }\n",
       "\n",
       "    .dataframe tbody tr th {\n",
       "        vertical-align: top;\n",
       "    }\n",
       "\n",
       "    .dataframe thead th {\n",
       "        text-align: right;\n",
       "    }\n",
       "</style>\n",
       "<table border=\"1\" class=\"dataframe\">\n",
       "  <thead>\n",
       "    <tr style=\"text-align: right;\">\n",
       "      <th></th>\n",
       "      <th>G</th>\n",
       "      <th>R</th>\n",
       "      <th>S</th>\n",
       "      <th>Y</th>\n",
       "      <th>z</th>\n",
       "      <th>n</th>\n",
       "    </tr>\n",
       "  </thead>\n",
       "  <tbody>\n",
       "    <tr>\n",
       "      <th>0</th>\n",
       "      <td>-0.866957</td>\n",
       "      <td>2.671220</td>\n",
       "      <td>1.250009</td>\n",
       "      <td>-1.623090</td>\n",
       "      <td>0.000000</td>\n",
       "      <td>0.000000</td>\n",
       "    </tr>\n",
       "    <tr>\n",
       "      <th>1</th>\n",
       "      <td>0.270648</td>\n",
       "      <td>1.457538</td>\n",
       "      <td>-0.577194</td>\n",
       "      <td>0.068716</td>\n",
       "      <td>0.000000</td>\n",
       "      <td>0.000000</td>\n",
       "    </tr>\n",
       "    <tr>\n",
       "      <th>2</th>\n",
       "      <td>0.824128</td>\n",
       "      <td>2.167543</td>\n",
       "      <td>-0.743027</td>\n",
       "      <td>-0.833399</td>\n",
       "      <td>0.000000</td>\n",
       "      <td>0.000000</td>\n",
       "    </tr>\n",
       "    <tr>\n",
       "      <th>3</th>\n",
       "      <td>-0.407692</td>\n",
       "      <td>2.394773</td>\n",
       "      <td>-0.162199</td>\n",
       "      <td>-0.559280</td>\n",
       "      <td>0.000000</td>\n",
       "      <td>0.000000</td>\n",
       "    </tr>\n",
       "    <tr>\n",
       "      <th>4</th>\n",
       "      <td>1.150558</td>\n",
       "      <td>2.954156</td>\n",
       "      <td>0.622621</td>\n",
       "      <td>-1.770206</td>\n",
       "      <td>0.000000</td>\n",
       "      <td>0.000000</td>\n",
       "    </tr>\n",
       "    <tr>\n",
       "      <th>5</th>\n",
       "      <td>0.168252</td>\n",
       "      <td>3.066919</td>\n",
       "      <td>-0.383169</td>\n",
       "      <td>-1.572459</td>\n",
       "      <td>0.000000</td>\n",
       "      <td>0.000000</td>\n",
       "    </tr>\n",
       "    <tr>\n",
       "      <th>6</th>\n",
       "      <td>0.177529</td>\n",
       "      <td>1.785756</td>\n",
       "      <td>-0.135584</td>\n",
       "      <td>-0.696825</td>\n",
       "      <td>0.000000</td>\n",
       "      <td>0.000000</td>\n",
       "    </tr>\n",
       "    <tr>\n",
       "      <th>7</th>\n",
       "      <td>0.324986</td>\n",
       "      <td>0.755385</td>\n",
       "      <td>0.760570</td>\n",
       "      <td>-0.801228</td>\n",
       "      <td>0.746087</td>\n",
       "      <td>0.000000</td>\n",
       "    </tr>\n",
       "    <tr>\n",
       "      <th>8</th>\n",
       "      <td>1.251835</td>\n",
       "      <td>3.948235</td>\n",
       "      <td>-0.555441</td>\n",
       "      <td>-1.601437</td>\n",
       "      <td>2.318551</td>\n",
       "      <td>0.746087</td>\n",
       "    </tr>\n",
       "    <tr>\n",
       "      <th>9</th>\n",
       "      <td>1.820537</td>\n",
       "      <td>1.499741</td>\n",
       "      <td>3.300199</td>\n",
       "      <td>-2.495678</td>\n",
       "      <td>3.525797</td>\n",
       "      <td>1.554853</td>\n",
       "    </tr>\n",
       "    <tr>\n",
       "      <th>10</th>\n",
       "      <td>1.843258</td>\n",
       "      <td>2.635735</td>\n",
       "      <td>-0.004784</td>\n",
       "      <td>-2.171804</td>\n",
       "      <td>2.306324</td>\n",
       "      <td>2.262388</td>\n",
       "    </tr>\n",
       "    <tr>\n",
       "      <th>11</th>\n",
       "      <td>-1.439587</td>\n",
       "      <td>1.898870</td>\n",
       "      <td>1.169773</td>\n",
       "      <td>-0.027764</td>\n",
       "      <td>0.000000</td>\n",
       "      <td>2.364308</td>\n",
       "    </tr>\n",
       "    <tr>\n",
       "      <th>12</th>\n",
       "      <td>-0.595891</td>\n",
       "      <td>2.641990</td>\n",
       "      <td>-0.510109</td>\n",
       "      <td>-0.438992</td>\n",
       "      <td>4.966377</td>\n",
       "      <td>2.364308</td>\n",
       "    </tr>\n",
       "    <tr>\n",
       "      <th>13</th>\n",
       "      <td>1.281136</td>\n",
       "      <td>-0.532174</td>\n",
       "      <td>-0.864265</td>\n",
       "      <td>-1.358426</td>\n",
       "      <td>0.838333</td>\n",
       "      <td>2.364308</td>\n",
       "    </tr>\n",
       "    <tr>\n",
       "      <th>14</th>\n",
       "      <td>-1.577015</td>\n",
       "      <td>3.684971</td>\n",
       "      <td>0.000000</td>\n",
       "      <td>0.265562</td>\n",
       "      <td>0.502903</td>\n",
       "      <td>2.087782</td>\n",
       "    </tr>\n",
       "    <tr>\n",
       "      <th>15</th>\n",
       "      <td>0.561568</td>\n",
       "      <td>0.000000</td>\n",
       "      <td>-1.335714</td>\n",
       "      <td>1.938333</td>\n",
       "      <td>-1.731700</td>\n",
       "      <td>1.792092</td>\n",
       "    </tr>\n",
       "    <tr>\n",
       "      <th>16</th>\n",
       "      <td>-0.615395</td>\n",
       "      <td>2.182841</td>\n",
       "      <td>3.377586</td>\n",
       "      <td>-3.987368</td>\n",
       "      <td>0.615395</td>\n",
       "      <td>0.000000</td>\n",
       "    </tr>\n",
       "    <tr>\n",
       "      <th>17</th>\n",
       "      <td>0.000000</td>\n",
       "      <td>0.000000</td>\n",
       "      <td>0.000000</td>\n",
       "      <td>0.000000</td>\n",
       "      <td>0.000000</td>\n",
       "      <td>0.000000</td>\n",
       "    </tr>\n",
       "    <tr>\n",
       "      <th>18</th>\n",
       "      <td>0.000000</td>\n",
       "      <td>0.000000</td>\n",
       "      <td>0.000000</td>\n",
       "      <td>0.000000</td>\n",
       "      <td>0.000000</td>\n",
       "      <td>0.000000</td>\n",
       "    </tr>\n",
       "  </tbody>\n",
       "</table>\n",
       "</div>"
      ],
      "text/plain": [
       "           G         R         S         Y         z         n\n",
       "0  -0.866957  2.671220  1.250009 -1.623090  0.000000  0.000000\n",
       "1   0.270648  1.457538 -0.577194  0.068716  0.000000  0.000000\n",
       "2   0.824128  2.167543 -0.743027 -0.833399  0.000000  0.000000\n",
       "3  -0.407692  2.394773 -0.162199 -0.559280  0.000000  0.000000\n",
       "4   1.150558  2.954156  0.622621 -1.770206  0.000000  0.000000\n",
       "5   0.168252  3.066919 -0.383169 -1.572459  0.000000  0.000000\n",
       "6   0.177529  1.785756 -0.135584 -0.696825  0.000000  0.000000\n",
       "7   0.324986  0.755385  0.760570 -0.801228  0.746087  0.000000\n",
       "8   1.251835  3.948235 -0.555441 -1.601437  2.318551  0.746087\n",
       "9   1.820537  1.499741  3.300199 -2.495678  3.525797  1.554853\n",
       "10  1.843258  2.635735 -0.004784 -2.171804  2.306324  2.262388\n",
       "11 -1.439587  1.898870  1.169773 -0.027764  0.000000  2.364308\n",
       "12 -0.595891  2.641990 -0.510109 -0.438992  4.966377  2.364308\n",
       "13  1.281136 -0.532174 -0.864265 -1.358426  0.838333  2.364308\n",
       "14 -1.577015  3.684971  0.000000  0.265562  0.502903  2.087782\n",
       "15  0.561568  0.000000 -1.335714  1.938333 -1.731700  1.792092\n",
       "16 -0.615395  2.182841  3.377586 -3.987368  0.615395  0.000000\n",
       "17  0.000000  0.000000  0.000000  0.000000  0.000000  0.000000\n",
       "18  0.000000  0.000000  0.000000  0.000000  0.000000  0.000000"
      ]
     },
     "execution_count": 7,
     "metadata": {},
     "output_type": "execute_result"
    }
   ],
   "source": [
    "rFon1D_df = pd.DataFrame(rFon1D, index=range(19), columns=col_names)\n",
    "rFon1D_df"
   ]
  },
  {
   "cell_type": "code",
   "execution_count": 8,
   "id": "97b37ef0",
   "metadata": {
    "pycharm": {
     "name": "#%%\n"
    }
   },
   "outputs": [
    {
     "data": {
      "text/plain": [
       "<AxesSubplot:>"
      ]
     },
     "execution_count": 8,
     "metadata": {},
     "output_type": "execute_result"
    },
    {
     "data": {
      "image/png": "[encoded data removed]",
      "text/plain": [
       "<Figure size 432x288 with 1 Axes>"
      ]
     },
     "metadata": {
      "needs_background": "light"
     },
     "output_type": "display_data"
    }
   ],
   "source": [
    "sns.stripplot(data=rFon1D_df, linewidth=1)"
   ]
  },
  {
   "cell_type": "code",
   "execution_count": 39,
   "id": "a036b89b",
   "metadata": {
    "pycharm": {
     "name": "#%%\n"
    }
   },
   "outputs": [
    {
     "data": {
      "image/png": "[encoded data removed]",
      "text/plain": [
       "<Figure size 432x288 with 1 Axes>"
      ]
     },
     "metadata": {
      "needs_background": "light"
     },
     "output_type": "display_data"
    }
   ],
   "source": [
    "ortho_seqs_colors = {\"G\": \"tab:blue\", \"R\": \"tab:purple\", \"S\":\"saddlebrown\", \"Y\":\"tab:orange\", \"z\":\"g\", \"n\":\"mediumvioletred\"}\n",
    "ax = sns.boxplot(data=rFon1D_df, whis=np.inf, palette=ortho_seqs_colors)\n",
    "ax = sns.stripplot(data=rFon1D_df, color=\".2\")\n",
    "plt.xlabel('residues along insulin CDRH3 sequences')\n",
    "plt.ylabel('regressions of VEGF (nonspecific) ELISA values')\n",
    "plt.savefig('vegf_elisa_insulinseqs_rFon1D_boxplot.png', dpi=600)"
   ]
  },
  {
   "cell_type": "code",
   "execution_count": 40,
   "id": "729191bf",
   "metadata": {
    "pycharm": {
     "name": "#%%\n"
    }
   },
   "outputs": [
    {
     "data": {
      "image/png": "[encoded data removed]",
      "text/plain": [
       "<Figure size 432x288 with 1 Axes>"
      ]
     },
     "metadata": {
      "needs_background": "light"
     },
     "output_type": "display_data"
    }
   ],
   "source": [
    "ax = sns.violinplot(data=rFon1D_df, inner=None, color=\".9\")\n",
    "ax = sns.stripplot(data=rFon1D_df, palette=ortho_seqs_colors)\n",
    "plt.xlabel('residues along insulin CDRH3 sequences')\n",
    "plt.ylabel('regressions of VEGF (nonspecific) ELISA values')\n",
    "plt.savefig('vegf_elisa_insulinseqs_rFon1D_violinplot.png', dpi=600)"
   ]
  },
  {
   "cell_type": "code",
   "execution_count": 42,
   "id": "da8026fd",
   "metadata": {
    "pycharm": {
     "name": "#%%\n"
    }
   },
   "outputs": [],
   "source": [
    "def mann_whitney_u_test(dist1, dist2):\n",
    "    u_statistic, p_val = mannwhitneyu(dist1,dist2)\n",
    "    return u_statistic, p_val"
   ]
  },
  {
   "cell_type": "code",
   "execution_count": 43,
   "id": "4240e778",
   "metadata": {
    "pycharm": {
     "name": "#%%\n"
    }
   },
   "outputs": [
    {
     "data": {
      "text/plain": [
       "(337.0, 5.130676621729409e-06)"
      ]
     },
     "execution_count": 43,
     "metadata": {},
     "output_type": "execute_result"
    }
   ],
   "source": [
    "mann_whitney_u_test(list(rFon1D_df['R']), list(rFon1D_df['Y']))"
   ]
  },
  {
   "cell_type": "code",
   "execution_count": null,
   "id": "d387986b",
   "metadata": {
    "pycharm": {
     "name": "#%%\n"
    }
   },
   "outputs": [],
   "source": []
  }
 ],
 "metadata": {
  "kernelspec": {
   "display_name": "Python 3 (ipykernel)",
   "language": "python",
   "name": "python3"
  },
  "language_info": {
   "codemirror_mode": {
    "name": "ipython",
    "version": 3
   },
   "file_extension": ".py",
   "mimetype": "text/x-python",
   "name": "python",
   "nbconvert_exporter": "python",
   "pygments_lexer": "ipython3",
   "version": "3.9.7"
  }
 },
 "nbformat": 4,
 "nbformat_minor": 5
}