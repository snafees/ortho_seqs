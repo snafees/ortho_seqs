{
 "cells": [
  {
   "cell_type": "markdown",
   "id": "30c784f4",
   "metadata": {},
   "source": [
    "# Partial rFon1D Visualizations\n",
    "\n",
    "Generating rFon1D visualizations. Easier to manipulate barplots.\n",
    "Last updated: 8/4/22"
   ]
  },
  {
   "cell_type": "code",
   "execution_count": 19,
   "id": "f720f963",
   "metadata": {},
   "outputs": [],
   "source": [
    "import numpy as np\n",
    "import pandas as pd\n",
    "import matplotlib.pyplot as plt"
   ]
  },
  {
   "cell_type": "markdown",
   "id": "454ffc9b",
   "metadata": {},
   "source": [
    "## Import data"
   ]
  },
  {
   "cell_type": "code",
   "execution_count": 30,
   "id": "5e18e937",
   "metadata": {},
   "outputs": [],
   "source": [
    "# CHANGE THIS AS NEEDED PER EXPERIMENT\n",
    "filename = \"/Users/olivia.yoo/Desktop/code/ortho_seqs/amyloid_beta/server_ortho_seq_results/abeta_hydrophobicity7_first/complete_amyloid1_regressions.npz\"\n",
    "experiment = \"abeta_hydrophobicity7_first\"\n",
    "orig_file = \"complete_amyloid1\"\n",
    "dims = [\"vPHOB\", \"PHOB\", \"NEUT\", \"PHIL\"]\n",
    "n_dim = len(dims)\n",
    "sites = np.arange(0, 42)\n",
    "# out_dir needs to exist previously\n",
    "out_dir = (\n",
    "    \"/Users/olivia.yoo/Desktop/code/ortho_seqs/amyloid_beta/add_later_results/\"\n",
    "    + experiment\n",
    "    + \"_barplots/\"\n",
    ")"
   ]
  },
  {
   "cell_type": "code",
   "execution_count": 31,
   "id": "29c42acd",
   "metadata": {},
   "outputs": [
    {
     "data": {
      "text/plain": [
       "[0, 2, 6, 10, 16, 21, 41]"
      ]
     },
     "execution_count": 31,
     "metadata": {},
     "output_type": "execute_result"
    }
   ],
   "source": [
    "# SITES OF INTEREST, ZERO INDEXED\n",
    "site_descr = \"gatekeeper\"\n",
    "sites_of_interest = [0, 2, 6, 10, 16, 21, 41]\n",
    "n_sois = len(sites_of_interest)\n",
    "sites_of_interest"
   ]
  },
  {
   "cell_type": "code",
   "execution_count": 32,
   "id": "4cc6030d",
   "metadata": {},
   "outputs": [],
   "source": [
    "colors = [\n",
    "    \"tab:blue\",\n",
    "    \"blueviolet\",\n",
    "    \"saddlebrown\",\n",
    "    \"tab:orange\",\n",
    "    \"tab:green\",\n",
    "    \"mediumvioletred\",\n",
    "    \"coral\",\n",
    "    \"tab:red\",\n",
    "    \"tab:purple\",\n",
    "    \"dodgerblue\",\n",
    "    \"tab:brown\",\n",
    "    \"gold\",\n",
    "    \"tab:pink\",\n",
    "    \"limegreen\",\n",
    "    \"tab:gray\",\n",
    "    \"chocolate\",\n",
    "    \"tab:olive\",\n",
    "    \"mediumvioletred\",\n",
    "    \"goldenrod\",\n",
    "    \"tab:cyan\",\n",
    "    \"violet\",\n",
    "]"
   ]
  },
  {
   "cell_type": "code",
   "execution_count": 33,
   "id": "d6a37b25",
   "metadata": {
    "scrolled": true
   },
   "outputs": [
    {
     "data": {
      "text/plain": [
       "array([[-0.5815991 ,  0.6815348 ,  1.07491935, -0.56065173],\n",
       "       [-1.03694815, -0.15557898,  0.47102717,  0.68900913],\n",
       "       [-0.24799138,  1.96119194, -0.42925587,  0.82467227],\n",
       "       [-0.32699425,  0.36202572,  0.28377269,  0.        ],\n",
       "       [-0.09542534,  0.        , -0.21559085,  0.16755826],\n",
       "       [-0.61327009,  0.5523897 ,  0.03830384,  0.06395013],\n",
       "       [ 0.0281707 ,  0.76390842,  0.53605202, -0.43549672],\n",
       "       [ 0.1236027 ,  0.96769751, -0.73887187,  0.9975901 ],\n",
       "       [-0.17421941, -0.86445011,  0.00663434,  0.54086771],\n",
       "       [ 0.8885871 , -0.65265687,  0.62662202,  0.50750999],\n",
       "       [ 1.12627409,  0.21514346, -0.86045825,  0.76995339],\n",
       "       [-0.62540727,  0.68971216,  0.86261245,  0.47895702],\n",
       "       [-0.0416519 ,  1.10123942,  0.27514481, -0.36355515],\n",
       "       [ 1.23945024,  0.0545025 ,  0.57244512, -0.73833676],\n",
       "       [ 0.40268135,  0.        , -0.20550567,  0.12266989],\n",
       "       [-1.34219292,  0.        , -0.13085709,  0.53754277],\n",
       "       [-0.58628947,  0.        ,  0.58628947,  0.        ],\n",
       "       [-0.31971275,  0.10320345,  0.46780477,  0.        ],\n",
       "       [ 0.18217445,  0.04522315, -0.49304954,  0.        ],\n",
       "       [-0.45714295,  0.06899516,  0.81348581,  0.        ],\n",
       "       [ 1.1452681 , -0.17767751, -0.12873232, -0.19018992],\n",
       "       [ 0.41061745,  0.0279904 , -0.71847226,  0.94165862],\n",
       "       [-1.0450548 , -1.90533505,  1.38541866, -0.30716663],\n",
       "       [-0.45676669,  0.4181008 ,  0.47526067,  0.        ],\n",
       "       [-0.35793656,  0.14621504,  0.32986307, -0.81925521],\n",
       "       [ 0.53857421, -1.38252687,  0.33278098, -0.96868902],\n",
       "       [ 1.00243321,  1.27126442, -1.23207559, -0.30432387],\n",
       "       [-0.88214801,  0.        , -0.72313813,  0.80196261],\n",
       "       [ 1.07654831, -0.33800531,  0.84944272, -1.73436089],\n",
       "       [ 2.86097027, -0.83872408,  0.08676076,  0.15017451],\n",
       "       [ 0.5421604 ,  0.        , -0.46397895, -0.62441648],\n",
       "       [ 2.09721277,  0.        , -2.06490775, -2.07772431],\n",
       "       [-1.60664458, -2.00326586,  1.63166809, -1.5582483 ],\n",
       "       [ 1.6586996 ,  0.        ,  0.        , -1.6586996 ],\n",
       "       [ 2.22539376,  0.        , -2.05840577, -2.28145223],\n",
       "       [ 1.37981069, -1.06887221, -1.57821579,  0.        ],\n",
       "       [-1.91138212,  0.00526136,  1.38643423, -2.20891629],\n",
       "       [-1.85390929, -0.40258362,  0.80141341, -0.96641728],\n",
       "       [ 2.18611805, -1.79227086, -2.51409679, -2.3979677 ],\n",
       "       [ 0.        ,  0.        ,  0.        ,  0.        ],\n",
       "       [ 1.85118753,  0.        , -2.25150953, -1.46851157],\n",
       "       [ 0.        ,  0.        ,  0.        ,  0.        ]])"
      ]
     },
     "execution_count": 33,
     "metadata": {},
     "output_type": "execute_result"
    }
   ],
   "source": [
    "rFon1D_arr = np.load(filename)[orig_file + \"_rFon1D\"]\n",
    "rFon1D_arr"
   ]
  },
  {
   "cell_type": "code",
   "execution_count": 34,
   "id": "25241d22",
   "metadata": {},
   "outputs": [
    {
     "data": {
      "text/plain": [
       "array([[-0.5815991 ,  0.6815348 ,  1.07491935, -0.56065173],\n",
       "       [-0.24799138,  1.96119194, -0.42925587,  0.82467227],\n",
       "       [ 0.0281707 ,  0.76390842,  0.53605202, -0.43549672],\n",
       "       [ 1.12627409,  0.21514346, -0.86045825,  0.76995339],\n",
       "       [-0.58628947,  0.        ,  0.58628947,  0.        ],\n",
       "       [ 0.41061745,  0.0279904 , -0.71847226,  0.94165862],\n",
       "       [ 0.        ,  0.        ,  0.        ,  0.        ]])"
      ]
     },
     "execution_count": 34,
     "metadata": {},
     "output_type": "execute_result"
    }
   ],
   "source": [
    "rFon1D_interest = rFon1D_arr[sites_of_interest]\n",
    "rFon1D_interest"
   ]
  },
  {
   "cell_type": "markdown",
   "id": "7b821a90",
   "metadata": {},
   "source": [
    "## Generate plot"
   ]
  },
  {
   "cell_type": "code",
   "execution_count": 35,
   "id": "2f9bd928",
   "metadata": {},
   "outputs": [],
   "source": [
    "# constants that will be useful\n",
    "width = 1 / n_sois\n",
    "sd = n_sois * n_dim"
   ]
  },
  {
   "cell_type": "code",
   "execution_count": 36,
   "id": "2a2a2da7",
   "metadata": {},
   "outputs": [],
   "source": [
    "def index_of_zeros(lst):\n",
    "    zeros = []\n",
    "    for i in range(len(lst)):\n",
    "        if lst[i] == 0:\n",
    "            zeros.append(i)\n",
    "    return zeros"
   ]
  },
  {
   "cell_type": "code",
   "execution_count": 39,
   "id": "305a5a9a",
   "metadata": {},
   "outputs": [
    {
     "data": {
      "image/png": "[encoded data removed]",
      "text/plain": [
       "<Figure size 576x432 with 1 Axes>"
      ]
     },
     "metadata": {
      "needs_background": "light"
     },
     "output_type": "display_data"
    }
   ],
   "source": [
    "# set up the figure\n",
    "fig, ax = plt.subplots(figsize=(8, 6))\n",
    "for i in range(n_sois + 1):\n",
    "    ax.axvline(i, color=\"lightgray\", linewidth=0.8, zorder=0)\n",
    "ax.axhline(color=\"black\", linewidth=0.64)\n",
    "\n",
    "\n",
    "# draw bars onto the figure\n",
    "for i in range(n_sois):\n",
    "    curr_site = rFon1D_interest[i]\n",
    "    zeros = index_of_zeros(curr_site)\n",
    "    n_bars = n_dim - len(zeros)\n",
    "    if n_bars != 0:\n",
    "        bar_width = 1 / n_bars\n",
    "\n",
    "        zero_count = 0\n",
    "        for j in range(n_dim):\n",
    "            if j not in zeros:\n",
    "                curr_x = i + bar_width * (j - zero_count)\n",
    "                curr_height = curr_site[j]\n",
    "                ax.bar(\n",
    "                    x=curr_x,\n",
    "                    height=curr_height,\n",
    "                    width=bar_width,\n",
    "                    align=\"edge\",\n",
    "                    edgecolor=\"black\",\n",
    "                    zorder=3,\n",
    "                    color=colors[j],\n",
    "                )\n",
    "            else:\n",
    "                zero_count += 1\n",
    "\n",
    "# legend\n",
    "markers = [\n",
    "    plt.Line2D([0, 0], [0, 0], color=color, marker=\"o\", linestyle=\"\")\n",
    "    for color in colors[0:n_dim]\n",
    "]\n",
    "ax.legend(markers, dims, loc=\"best\", ncol=n_dim, prop={\"size\": 10})\n",
    "\n",
    "# x-ticks\n",
    "ax.tick_params(width=0.8)\n",
    "ax.set_xticks(np.arange(0, n_sois) + 0.5)\n",
    "ax.set_xticklabels(sites_of_interest)\n",
    "\n",
    "# labels\n",
    "# ax.xaxis.label.set_size(20 - n_sois / 2)\n",
    "plt.xlabel(\"Sequence Site\")\n",
    "plt.ylabel(\"Regressions of nscore values\")\n",
    "\n",
    "# set regression limits to make comparisons for different regions\n",
    "plt.ylim(-2.75, 3.5)\n",
    "\n",
    "# save figure\n",
    "plt.title(site_descr + \" sites\")\n",
    "plt.tight_layout()\n",
    "plt.savefig(out_dir + experiment + \"_\" + site_descr + \".png\", dpi=400)"
   ]
  },
  {
   "cell_type": "code",
   "execution_count": null,
   "id": "f0d9e296",
   "metadata": {},
   "outputs": [],
   "source": []
  },
  {
   "cell_type": "code",
   "execution_count": null,
   "id": "23c3541b",
   "metadata": {},
   "outputs": [],
   "source": []
  }
 ],
 "metadata": {
  "kernelspec": {
   "display_name": "Python 3 (ipykernel)",
   "language": "python",
   "name": "python3"
  },
  "language_info": {
   "codemirror_mode": {
    "name": "ipython",
    "version": 3
   },
   "file_extension": ".py",
   "mimetype": "text/x-python",
   "name": "python",
   "nbconvert_exporter": "python",
   "pygments_lexer": "ipython3",
   "version": "3.10.4"
  }
 },
 "nbformat": 4,
 "nbformat_minor": 5
}
